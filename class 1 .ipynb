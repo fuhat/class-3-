{
 "cells": [
  {
   "cell_type": "code",
   "execution_count": 1,
   "id": "0991dffd",
   "metadata": {},
   "outputs": [],
   "source": [
    "import numpy as np \n",
    "import numpy_financial as npf"
   ]
  },
  {
   "cell_type": "code",
   "execution_count": 7,
   "id": "71647c59",
   "metadata": {},
   "outputs": [],
   "source": [
    "rate =8.25\n",
    "cashflow = 5000\n",
    "T= 5"
   ]
  },
  {
   "cell_type": "code",
   "execution_count": 13,
   "id": "8b3ae5c8",
   "metadata": {},
   "outputs": [
    {
     "data": {
      "text/plain": [
       "606.051656382978"
      ]
     },
     "execution_count": 13,
     "metadata": {},
     "output_type": "execute_result"
    }
   ],
   "source": [
    "npf.pv(rate, T, -cashflow)"
   ]
  },
  {
   "cell_type": "code",
   "execution_count": 18,
   "id": "37bfe15e",
   "metadata": {},
   "outputs": [],
   "source": [
    "rate =10\n",
    "t = 5\n",
    "pv =1000 \n",
    "pmt = 0 "
   ]
  },
  {
   "cell_type": "code",
   "execution_count": 23,
   "id": "fa99ef2d",
   "metadata": {},
   "outputs": [
    {
     "data": {
      "text/plain": [
       "161051000.0"
      ]
     },
     "execution_count": 23,
     "metadata": {},
     "output_type": "execute_result"
    }
   ],
   "source": [
    "npf.fv(rate,T,pmt, -pv)"
   ]
  },
  {
   "cell_type": "code",
   "execution_count": 24,
   "id": "68e9de65",
   "metadata": {},
   "outputs": [],
   "source": [
    "rate = 8\n",
    "pv = 10000\n",
    "pmt = 100000\n",
    "T =  10 "
   ]
  },
  {
   "cell_type": "code",
   "execution_count": 27,
   "id": "e6d0f9d7",
   "metadata": {},
   "outputs": [
    {
     "data": {
      "text/plain": [
       "-10100986698928.0"
      ]
     },
     "execution_count": 27,
     "metadata": {},
     "output_type": "execute_result"
    }
   ],
   "source": [
    "npf.fv(rate,T,-pmt,-pv)"
   ]
  },
  {
   "cell_type": "code",
   "execution_count": null,
   "id": "7ee34a7f",
   "metadata": {},
   "outputs": [],
   "source": []
  }
 ],
 "metadata": {
  "kernelspec": {
   "display_name": "Python 3 (ipykernel)",
   "language": "python",
   "name": "python3"
  },
  "language_info": {
   "codemirror_mode": {
    "name": "ipython",
    "version": 3
   },
   "file_extension": ".py",
   "mimetype": "text/x-python",
   "name": "python",
   "nbconvert_exporter": "python",
   "pygments_lexer": "ipython3",
   "version": "3.9.12"
  }
 },
 "nbformat": 4,
 "nbformat_minor": 5
}
